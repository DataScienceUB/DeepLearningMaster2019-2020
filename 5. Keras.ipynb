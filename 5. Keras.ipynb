{
  "nbformat": 4,
  "nbformat_minor": 0,
  "metadata": {
    "colab": {
      "name": "5. Keras.ipynb",
      "provenance": [],
      "include_colab_link": true
    },
    "kernelspec": {
      "name": "python3",
      "display_name": "Python 3"
    },
    "accelerator": "GPU"
  },
  "cells": [
    {
      "cell_type": "markdown",
      "metadata": {
        "id": "view-in-github",
        "colab_type": "text"
      },
      "source": [
        "<a href=\"https://colab.research.google.com/github/DataScienceUB/DeepLearningMaster20192020/blob/master/5.%20Keras.ipynb\" target=\"_parent\"><img src=\"https://colab.research.google.com/assets/colab-badge.svg\" alt=\"Open In Colab\"/></a>"
      ]
    },
    {
      "cell_type": "markdown",
      "metadata": {
        "id": "yxTtoHZdQEzw",
        "colab_type": "text"
      },
      "source": [
        "# `keras`\n",
        "\n",
        "> Keras is a high-level neural networks library, written in Python and capable of running on top of either TensorFlow or CNTK. It was developed with a focus on enabling fast experimentation.\n",
        "\n"
      ]
    },
    {
      "cell_type": "code",
      "metadata": {
        "id": "cGkk9uf_QZ-o",
        "colab_type": "code",
        "outputId": "b62b6a67-85f9-4a59-834e-c76d0f7d0d4a",
        "colab": {
          "base_uri": "https://localhost:8080/",
          "height": 52
        }
      },
      "source": [
        "import tensorflow as tf\n",
        "\n",
        "print(tf.VERSION)\n",
        "print(tf.keras.__version__)"
      ],
      "execution_count": 1,
      "outputs": [
        {
          "output_type": "stream",
          "text": [
            "1.15.0\n",
            "2.2.4-tf\n"
          ],
          "name": "stdout"
        }
      ]
    },
    {
      "cell_type": "markdown",
      "metadata": {
        "id": "-bme-ciBSrmX",
        "colab_type": "text"
      },
      "source": [
        "## Definition of your model and optimization process"
      ]
    },
    {
      "cell_type": "markdown",
      "metadata": {
        "id": "KXtqznrhQEzz",
        "colab_type": "text"
      },
      "source": [
        "The core data structure of Keras is a model, a way to organize layers. The main type of model is the ``Sequential model``, a linear stack of layers. "
      ]
    },
    {
      "cell_type": "code",
      "metadata": {
        "id": "y2RzbfJIQpHZ",
        "colab_type": "code",
        "colab": {}
      },
      "source": [
        "from tensorflow.keras import layers"
      ],
      "execution_count": 0,
      "outputs": []
    },
    {
      "cell_type": "markdown",
      "metadata": {
        "id": "aIHoW-hTQEz0",
        "colab_type": "text"
      },
      "source": [
        "Stacking layers is as easy as ``.add()``:\n"
      ]
    },
    {
      "cell_type": "code",
      "metadata": {
        "id": "npq3S6jtQy-c",
        "colab_type": "code",
        "outputId": "3ecec8da-1b74-4801-b990-47a76d03f283",
        "colab": {
          "base_uri": "https://localhost:8080/",
          "height": 334
        }
      },
      "source": [
        "model = tf.keras.Sequential()\n",
        "\n",
        "# Adds a densely-connected layer with 64 units to the model:\n",
        "model.add(layers.Dense(64, activation='relu', input_shape=(32,)))\n",
        "\n",
        "# Add another:\n",
        "model.add(layers.Dense(64, activation='relu'))\n",
        "\n",
        "# Add a softmax layer with 10 output units:\n",
        "model.add(layers.Dense(10, activation='softmax'))\n",
        "\n",
        "model.summary()"
      ],
      "execution_count": 3,
      "outputs": [
        {
          "output_type": "stream",
          "text": [
            "WARNING:tensorflow:From /usr/local/lib/python3.6/dist-packages/tensorflow_core/python/ops/resource_variable_ops.py:1630: calling BaseResourceVariable.__init__ (from tensorflow.python.ops.resource_variable_ops) with constraint is deprecated and will be removed in a future version.\n",
            "Instructions for updating:\n",
            "If using Keras pass *_constraint arguments to layers.\n",
            "Model: \"sequential\"\n",
            "_________________________________________________________________\n",
            "Layer (type)                 Output Shape              Param #   \n",
            "=================================================================\n",
            "dense (Dense)                (None, 64)                2112      \n",
            "_________________________________________________________________\n",
            "dense_1 (Dense)              (None, 64)                4160      \n",
            "_________________________________________________________________\n",
            "dense_2 (Dense)              (None, 10)                650       \n",
            "=================================================================\n",
            "Total params: 6,922\n",
            "Trainable params: 6,922\n",
            "Non-trainable params: 0\n",
            "_________________________________________________________________\n"
          ],
          "name": "stdout"
        }
      ]
    },
    {
      "cell_type": "markdown",
      "metadata": {
        "id": "bvZW0RY5QEz1",
        "colab_type": "text"
      },
      "source": [
        "Once your model looks good, configure its learning process with ``.compile()``:"
      ]
    },
    {
      "cell_type": "code",
      "metadata": {
        "id": "Jb-1515bRtYR",
        "colab_type": "code",
        "outputId": "d22a62bc-242e-481c-c73b-dec830c0239b",
        "colab": {
          "base_uri": "https://localhost:8080/",
          "height": 262
        }
      },
      "source": [
        "# Alternative syntax for adding layers\n",
        "\n",
        "model = tf.keras.Sequential([\n",
        "    \n",
        "# Adds a densely-connected layer with 64 units to the model:\n",
        "layers.Dense(32, activation='relu', input_shape=(32,)),\n",
        "# Add another:\n",
        "layers.Dense(32, activation='relu'),\n",
        "# Add a softmax layer with 10 output units:\n",
        "layers.Dense(10, activation='softmax')\n",
        "\n",
        "])\n",
        "\n",
        "model.compile(optimizer=tf.train.AdamOptimizer(0.001),\n",
        "              loss='categorical_crossentropy',\n",
        "              metrics=['accuracy'])\n",
        "\n",
        "model.summary()"
      ],
      "execution_count": 5,
      "outputs": [
        {
          "output_type": "stream",
          "text": [
            "Model: \"sequential_1\"\n",
            "_________________________________________________________________\n",
            "Layer (type)                 Output Shape              Param #   \n",
            "=================================================================\n",
            "dense_3 (Dense)              (None, 32)                1056      \n",
            "_________________________________________________________________\n",
            "dense_4 (Dense)              (None, 32)                1056      \n",
            "_________________________________________________________________\n",
            "dense_5 (Dense)              (None, 10)                330       \n",
            "=================================================================\n",
            "Total params: 2,442\n",
            "Trainable params: 2,442\n",
            "Non-trainable params: 0\n",
            "_________________________________________________________________\n"
          ],
          "name": "stdout"
        }
      ]
    },
    {
      "cell_type": "markdown",
      "metadata": {
        "id": "63Y89VPDR2Yn",
        "colab_type": "text"
      },
      "source": [
        "`tf.keras.Model.compile` takes three important arguments:\n",
        "\n",
        "* `optimizer`: This object specifies the training procedure. Pass it optimizer\n",
        "  instances from the `tf.train` module, such as\n",
        "  `tf.train.AdamOptimizer`, `tf.train.RMSPropOptimizer`, or\n",
        "  `tf.train.GradientDescentOptimizer`.\n",
        "* `loss`: The function to minimize during optimization. Common choices include\n",
        "  mean square error (`mse`), `categorical_crossentropy`, and\n",
        "  `binary_crossentropy`. Loss functions are specified by name or by\n",
        "  passing a callable object from the `tf.keras.losses` module.\n",
        "* `metrics`: Used to monitor training. These are string names or callables from\n",
        "  the `tf.keras.metrics` module."
      ]
    },
    {
      "cell_type": "markdown",
      "metadata": {
        "id": "88OWboaDQEz2",
        "colab_type": "text"
      },
      "source": [
        "Other examples:\n",
        "\n",
        "```python\n",
        "# Configure a model for mean-squared error regression.\n",
        "model.compile(optimizer=tf.train.AdamOptimizer(0.01),\n",
        "              loss='mse',       # mean squared error\n",
        "              metrics=['mae'])  # mean absolute error\n",
        "\n",
        "# Configure a model for categorical classification.\n",
        "model.compile(optimizer=tf.train.RMSPropOptimizer(0.01),\n",
        "              loss=tf.keras.losses.categorical_crossentropy,\n",
        "              metrics=[tf.keras.metrics.categorical_accuracy])\n",
        "```\n",
        "\n",
        "If you need to, you can further configure your optimizer.\n",
        "\n",
        "```Python\n",
        "from tensorflow.keras.optimizers import SGD\n",
        "model.compile(loss='categorical_crossentropy', optimizer=SGD(lr=0.01, momentum=0.9, nesterov=True))\n",
        "```"
      ]
    },
    {
      "cell_type": "markdown",
      "metadata": {
        "id": "IJuhl4rrS2wE",
        "colab_type": "text"
      },
      "source": [
        "## Data Input and model fitting.\n",
        "\n",
        "For small datasets, use in-memory [NumPy](https://www.numpy.org/)\n",
        "arrays to train and evaluate a model. \n",
        "\n",
        "The model is \"fit\" to the training data\n",
        "using the `fit` method:"
      ]
    },
    {
      "cell_type": "code",
      "metadata": {
        "id": "AAAWNGGWTCjx",
        "colab_type": "code",
        "outputId": "c2002334-d315-405c-a0e3-4efca98b7a18",
        "colab": {
          "base_uri": "https://localhost:8080/",
          "height": 402
        }
      },
      "source": [
        "import numpy as np\n",
        "\n",
        "data = np.random.random((1000, 32))\n",
        "labels = np.random.random((1000, 10))\n",
        "\n",
        "model.fit(data, labels, epochs=10, batch_size=32)"
      ],
      "execution_count": 6,
      "outputs": [
        {
          "output_type": "stream",
          "text": [
            "Train on 1000 samples\n",
            "Epoch 1/10\n",
            "1000/1000 [==============================] - 1s 851us/sample - loss: 11.7910 - acc: 0.0930\n",
            "Epoch 2/10\n",
            "1000/1000 [==============================] - 0s 102us/sample - loss: 13.7124 - acc: 0.0820\n",
            "Epoch 3/10\n",
            "1000/1000 [==============================] - 0s 101us/sample - loss: 20.9892 - acc: 0.0930\n",
            "Epoch 4/10\n",
            "1000/1000 [==============================] - 0s 99us/sample - loss: 37.2968 - acc: 0.1060\n",
            "Epoch 5/10\n",
            "1000/1000 [==============================] - 0s 93us/sample - loss: 61.1612 - acc: 0.1030\n",
            "Epoch 6/10\n",
            "1000/1000 [==============================] - 0s 95us/sample - loss: 90.2428 - acc: 0.1040\n",
            "Epoch 7/10\n",
            "1000/1000 [==============================] - 0s 116us/sample - loss: 120.5758 - acc: 0.1080\n",
            "Epoch 8/10\n",
            "1000/1000 [==============================] - 0s 96us/sample - loss: 157.3437 - acc: 0.1030\n",
            "Epoch 9/10\n",
            "1000/1000 [==============================] - 0s 97us/sample - loss: 198.2640 - acc: 0.1100\n",
            "Epoch 10/10\n",
            "1000/1000 [==============================] - 0s 99us/sample - loss: 238.0623 - acc: 0.1030\n"
          ],
          "name": "stdout"
        },
        {
          "output_type": "execute_result",
          "data": {
            "text/plain": [
              "<tensorflow.python.keras.callbacks.History at 0x7fd6c3dae8d0>"
            ]
          },
          "metadata": {
            "tags": []
          },
          "execution_count": 6
        }
      ]
    },
    {
      "cell_type": "markdown",
      "metadata": {
        "id": "tZiYjZGVTT8A",
        "colab_type": "text"
      },
      "source": [
        "`tensorflow.keras.Model.fit` takes three important arguments:\n",
        "\n",
        "* `epochs`: Training is structured into *epochs*. \n",
        "* `batch_size`: This integer\n",
        "  specifies the size of each batch. Be aware that the last batch may be smaller\n",
        "  if the total number of samples is not divisible by the batch size.\n",
        "* `validation_data`: Passing this argument—a tuple of inputs\n",
        "  and labels—allows the model to display the loss and metrics in inference mode\n",
        "  for the passed data, at the end of each epoch.\n",
        "\n",
        "Here's an example using `validation_data`:"
      ]
    },
    {
      "cell_type": "code",
      "metadata": {
        "id": "zd8UjPlyTd5c",
        "colab_type": "code",
        "outputId": "895f525e-f9dd-46a1-a512-63a4c092b78c",
        "colab": {
          "base_uri": "https://localhost:8080/",
          "height": 422
        }
      },
      "source": [
        "import numpy as np\n",
        "\n",
        "data = np.random.random((1000, 32))\n",
        "labels = np.random.random((1000, 10))\n",
        "\n",
        "val_data = np.random.random((100, 32))\n",
        "val_labels = np.random.random((100, 10))\n",
        "\n",
        "model.fit(data, labels, epochs=10, batch_size=32,\n",
        "          validation_data=(val_data, val_labels))"
      ],
      "execution_count": 7,
      "outputs": [
        {
          "output_type": "stream",
          "text": [
            "Train on 1000 samples, validate on 100 samples\n",
            "Epoch 1/10\n",
            "1000/1000 [==============================] - 0s 184us/sample - loss: 274.3590 - acc: 0.0860 - val_loss: 315.9140 - val_acc: 0.1000\n",
            "Epoch 2/10\n",
            "1000/1000 [==============================] - 0s 141us/sample - loss: 331.5517 - acc: 0.0970 - val_loss: 377.7909 - val_acc: 0.1500\n",
            "Epoch 3/10\n",
            "1000/1000 [==============================] - 0s 121us/sample - loss: 388.4382 - acc: 0.1120 - val_loss: 435.8389 - val_acc: 0.0400\n",
            "Epoch 4/10\n",
            "1000/1000 [==============================] - 0s 134us/sample - loss: 442.6795 - acc: 0.0990 - val_loss: 487.1581 - val_acc: 0.0400\n",
            "Epoch 5/10\n",
            "1000/1000 [==============================] - 0s 130us/sample - loss: 489.7398 - acc: 0.1050 - val_loss: 534.1239 - val_acc: 0.0900\n",
            "Epoch 6/10\n",
            "1000/1000 [==============================] - 0s 131us/sample - loss: 524.2579 - acc: 0.1000 - val_loss: 569.6602 - val_acc: 0.0900\n",
            "Epoch 7/10\n",
            "1000/1000 [==============================] - 0s 129us/sample - loss: 553.3766 - acc: 0.1080 - val_loss: 587.8188 - val_acc: 0.1200\n",
            "Epoch 8/10\n",
            "1000/1000 [==============================] - 0s 134us/sample - loss: 556.4567 - acc: 0.0950 - val_loss: 577.1092 - val_acc: 0.0900\n",
            "Epoch 9/10\n",
            "1000/1000 [==============================] - 0s 150us/sample - loss: 527.4981 - acc: 0.0960 - val_loss: 533.6731 - val_acc: 0.0400\n",
            "Epoch 10/10\n",
            "1000/1000 [==============================] - 0s 132us/sample - loss: 476.9255 - acc: 0.1090 - val_loss: 490.8539 - val_acc: 0.1000\n"
          ],
          "name": "stdout"
        },
        {
          "output_type": "execute_result",
          "data": {
            "text/plain": [
              "<tensorflow.python.keras.callbacks.History at 0x7fd6c3c738d0>"
            ]
          },
          "metadata": {
            "tags": []
          },
          "execution_count": 7
        }
      ]
    },
    {
      "cell_type": "markdown",
      "metadata": {
        "id": "jRE5P97jTvV9",
        "colab_type": "text"
      },
      "source": [
        "If you have to process large datasets you must use `tf` Datasets API. `feed-dict` is the slowest possible way to pass information to TensorFlow.\n",
        "\n",
        "A `Dataset` can be used to represent an input pipeline as a collection of elements (nested structures of tensors) and a \"logical plan\" of transformations that act on those elements.\n",
        "\n",
        "In order to use a Dataset we need three steps:\n",
        "\n",
        "+ Importing Data. Create a `Dataset` instance from some data.\n",
        "+ Create an Iterator. By using the created dataset to make an `Iterator` instance to iterate through the dataset.\n",
        "+ Consuming Data. By using the created iterator we can get the elements from the dataset to feed the model.\n"
      ]
    },
    {
      "cell_type": "code",
      "metadata": {
        "id": "Qb_E7q45UAbI",
        "colab_type": "code",
        "outputId": "fafb413e-eb8f-4e8c-eaa6-4c6ca8b8f85a",
        "colab": {
          "base_uri": "https://localhost:8080/",
          "height": 229
        }
      },
      "source": [
        "# Instantiates a toy dataset instance:\n",
        "dataset = tf.data.Dataset.from_tensor_slices((data, labels))\n",
        "\n",
        "# With the Dataset API we can use the method batch(BATCH_SIZE) that \n",
        "# automatically batches the dataset with the provided size. \n",
        "# The default value is one.\n",
        "dataset = dataset.batch(10)\n",
        "\n",
        "\n",
        "# Using .repeat() we can specify the number of times we want the dataset to be \n",
        "# iterated. If no parameter is passed it will loop forever, usually is good to \n",
        "# just loop forever and directly control the number of epochs with a standard \n",
        "# loop.\n",
        "dataset = dataset.repeat()\n",
        "\n",
        "# We are using an iterator (Dataset). In this case we have to specify `steps_per_epoch` \n",
        "# when calling `fit` on a dataset. `steps_per_epoch` = Total number of steps \n",
        "# (batches of samples) to yield from generator before declaring one epoch \n",
        "# finished and starting the next epoch. \n",
        "# It should typically be equal to the number of unique samples of your \n",
        "# dataset divided by the batch size.\n",
        "model.fit(dataset, epochs=4, steps_per_epoch=100)"
      ],
      "execution_count": 8,
      "outputs": [
        {
          "output_type": "stream",
          "text": [
            "WARNING:tensorflow:Expected a shuffled dataset but input dataset `x` is not shuffled. Please invoke `shuffle()` on input dataset.\n",
            "Train on 100 steps\n",
            "Epoch 1/4\n",
            "100/100 [==============================] - 0s 4ms/step - loss: 414.3366 - acc: 0.0970\n",
            "Epoch 2/4\n",
            "100/100 [==============================] - 0s 3ms/step - loss: 188.6471 - acc: 0.0970\n",
            "Epoch 3/4\n",
            "100/100 [==============================] - 0s 3ms/step - loss: 67.4393 - acc: 0.0890\n",
            "Epoch 4/4\n",
            "100/100 [==============================] - 0s 3ms/step - loss: 103.3406 - acc: 0.0740\n"
          ],
          "name": "stdout"
        },
        {
          "output_type": "execute_result",
          "data": {
            "text/plain": [
              "<tensorflow.python.keras.callbacks.History at 0x7fd6c3d906d8>"
            ]
          },
          "metadata": {
            "tags": []
          },
          "execution_count": 8
        }
      ]
    },
    {
      "cell_type": "markdown",
      "metadata": {
        "id": "oE3xO_piVH8P",
        "colab_type": "text"
      },
      "source": [
        "We can, of course, initialise our dataset with some tensor:\n",
        "\n",
        "```python\n",
        "# using a tensor\n",
        "dataset = tf.data.Dataset.from_tensor_slices(tf.random_uniform([100, 2]))\n",
        "```\n",
        "\n",
        "There are some other options: from a `Placeholder`, from a generator, from a `csv` file, etc.\n",
        "\n"
      ]
    },
    {
      "cell_type": "markdown",
      "metadata": {
        "id": "1mAUEQbnYImc",
        "colab_type": "text"
      },
      "source": [
        "### Evaluate and predict\n",
        "\n",
        "The `tf.keras.Model.evaluate` and `tf.keras.Model.predict` methods can use NumPy\n",
        "data and a `tf.data.Dataset`.\n",
        "\n",
        "To *evaluate* the inference-mode loss and metrics for the data provided:"
      ]
    },
    {
      "cell_type": "code",
      "metadata": {
        "id": "N0x8ULFQYJ1_",
        "colab_type": "code",
        "outputId": "97d4dbe4-1410-457c-934d-2405410492a4",
        "colab": {
          "base_uri": "https://localhost:8080/",
          "height": 69
        }
      },
      "source": [
        "data = np.random.random((1000, 32))\n",
        "labels = np.random.random((1000, 10))\n",
        "\n",
        "dataset = tf.data.Dataset.from_tensor_slices((data, labels))\n",
        "dataset = dataset.batch(10)\n",
        "dataset = dataset.repeat()\n",
        "\n",
        "model.evaluate(data, labels, batch_size=10)\n",
        "\n",
        "model.evaluate(dataset, steps=100)"
      ],
      "execution_count": 9,
      "outputs": [
        {
          "output_type": "stream",
          "text": [
            "1000/1000 [==============================] - 0s 287us/sample - loss: 70.0622 - acc: 0.1090\n",
            "100/100 [==============================] - 0s 3ms/step - loss: 70.0622 - acc: 0.1090\n"
          ],
          "name": "stdout"
        },
        {
          "output_type": "execute_result",
          "data": {
            "text/plain": [
              "[70.0622081375122, 0.109]"
            ]
          },
          "metadata": {
            "tags": []
          },
          "execution_count": 9
        }
      ]
    },
    {
      "cell_type": "markdown",
      "metadata": {
        "id": "pSryJ0YXYR6a",
        "colab_type": "text"
      },
      "source": [
        "And to *predict* the output of the last layer in inference for the data provided,\n",
        "as a NumPy array:"
      ]
    },
    {
      "cell_type": "code",
      "metadata": {
        "id": "r41ioMVWYTBM",
        "colab_type": "code",
        "outputId": "591f87ff-f59e-4993-e049-de9ae83e0aec",
        "colab": {
          "base_uri": "https://localhost:8080/",
          "height": 87
        }
      },
      "source": [
        "result = model.predict(data, batch_size=32)\n",
        "print(result.shape)\n",
        "print(result[0])"
      ],
      "execution_count": 10,
      "outputs": [
        {
          "output_type": "stream",
          "text": [
            "(1000, 10)\n",
            "[3.28562073e-02 2.44166609e-02 1.21308105e-04 2.26703858e-15\n",
            " 4.17719828e-03 9.37956274e-01 1.56752122e-27 4.68668703e-04\n",
            " 3.55048269e-06 2.71082694e-08]\n"
          ],
          "name": "stdout"
        }
      ]
    },
    {
      "cell_type": "markdown",
      "metadata": {
        "id": "MZi4CXR7QEz6",
        "colab_type": "text"
      },
      "source": [
        "## Example: MNIST  MLP"
      ]
    },
    {
      "cell_type": "code",
      "metadata": {
        "ExecuteTime": {
          "end_time": "2019-03-05T12:11:33.329607Z",
          "start_time": "2019-03-05T12:10:46.072748Z"
        },
        "id": "yARoL5izQEz7",
        "colab_type": "code",
        "outputId": "59f18caf-8c55-400b-cd80-41fb4c7ae958",
        "colab": {
          "base_uri": "https://localhost:8080/",
          "height": 1000
        }
      },
      "source": [
        "import tensorflow as tf\n",
        "import tensorflow.keras as keras\n",
        "import numpy as np\n",
        "\n",
        "np.random.seed(1337)  # for reproducibility\n",
        "\n",
        "from keras.datasets import mnist\n",
        "from keras.models import Sequential\n",
        "from keras.layers.core import Dense, Dropout, Activation\n",
        "from keras.optimizers import RMSprop\n",
        "from keras.utils import np_utils\n",
        "\n",
        "batch_size = 128\n",
        "nb_classes = 10\n",
        "nb_epoch = 10\n",
        "\n",
        "# the data, shuffled and split between train and test sets\n",
        "(X_train, y_train), (X_test, y_test) = mnist.load_data()\n",
        "\n",
        "X_train = X_train.reshape(60000, 784)\n",
        "X_test = X_test.reshape(10000, 784)\n",
        "X_train = X_train.astype('float32')\n",
        "X_test = X_test.astype('float32')\n",
        "X_train /= 255\n",
        "X_test /= 255\n",
        "\n",
        "print(X_train.shape[0], 'train samples')\n",
        "print(X_test.shape[0], 'test samples')\n",
        "\n",
        "# convert class vectors to binary class matrices\n",
        "Y_train = np_utils.to_categorical(y_train, nb_classes)\n",
        "Y_test  = np_utils.to_categorical(y_test, nb_classes)\n",
        "\n",
        "model = Sequential()\n",
        "model.add(Dense(512, input_shape=(784,)))\n",
        "model.add(Activation('relu'))\n",
        "model.add(Dropout(0.5))\n",
        "model.add(Dense(512))\n",
        "model.add(Activation('relu'))\n",
        "model.add(Dropout(0.5))\n",
        "model.add(Dense(10))\n",
        "model.add(Activation('softmax'))\n",
        "\n",
        "# print model characteristics\n",
        "model.summary()\n",
        "\n",
        "model.compile(loss='categorical_crossentropy',\n",
        "              optimizer=RMSprop(lr=0.01),\n",
        "              metrics=['accuracy'])\n",
        "\n",
        "history = model.fit(X_train, \n",
        "                    Y_train,\n",
        "                    batch_size=batch_size, \n",
        "                    epochs=nb_epoch,\n",
        "                    verbose=1, \n",
        "                    validation_data=(X_test, Y_test))\n",
        "\n",
        "score = model.evaluate(X_test, Y_test, verbose=0)\n",
        "\n",
        "print('\\n')\n",
        "print('Test score:', score[0])\n",
        "print('Test accuracy:', score[1])"
      ],
      "execution_count": 11,
      "outputs": [
        {
          "output_type": "stream",
          "text": [
            "Using TensorFlow backend.\n"
          ],
          "name": "stderr"
        },
        {
          "output_type": "stream",
          "text": [
            "Downloading data from https://s3.amazonaws.com/img-datasets/mnist.npz\n",
            "11493376/11490434 [==============================] - 1s 0us/step\n",
            "60000 train samples\n",
            "10000 test samples\n",
            "WARNING:tensorflow:From /usr/local/lib/python3.6/dist-packages/keras/backend/tensorflow_backend.py:66: The name tf.get_default_graph is deprecated. Please use tf.compat.v1.get_default_graph instead.\n",
            "\n",
            "WARNING:tensorflow:From /usr/local/lib/python3.6/dist-packages/keras/backend/tensorflow_backend.py:541: The name tf.placeholder is deprecated. Please use tf.compat.v1.placeholder instead.\n",
            "\n",
            "WARNING:tensorflow:From /usr/local/lib/python3.6/dist-packages/keras/backend/tensorflow_backend.py:4432: The name tf.random_uniform is deprecated. Please use tf.random.uniform instead.\n",
            "\n",
            "WARNING:tensorflow:From /usr/local/lib/python3.6/dist-packages/keras/backend/tensorflow_backend.py:148: The name tf.placeholder_with_default is deprecated. Please use tf.compat.v1.placeholder_with_default instead.\n",
            "\n",
            "WARNING:tensorflow:From /usr/local/lib/python3.6/dist-packages/keras/backend/tensorflow_backend.py:3733: calling dropout (from tensorflow.python.ops.nn_ops) with keep_prob is deprecated and will be removed in a future version.\n",
            "Instructions for updating:\n",
            "Please use `rate` instead of `keep_prob`. Rate should be set to `rate = 1 - keep_prob`.\n",
            "Model: \"sequential_1\"\n",
            "_________________________________________________________________\n",
            "Layer (type)                 Output Shape              Param #   \n",
            "=================================================================\n",
            "dense_1 (Dense)              (None, 512)               401920    \n",
            "_________________________________________________________________\n",
            "activation_1 (Activation)    (None, 512)               0         \n",
            "_________________________________________________________________\n",
            "dropout_1 (Dropout)          (None, 512)               0         \n",
            "_________________________________________________________________\n",
            "dense_2 (Dense)              (None, 512)               262656    \n",
            "_________________________________________________________________\n",
            "activation_2 (Activation)    (None, 512)               0         \n",
            "_________________________________________________________________\n",
            "dropout_2 (Dropout)          (None, 512)               0         \n",
            "_________________________________________________________________\n",
            "dense_3 (Dense)              (None, 10)                5130      \n",
            "_________________________________________________________________\n",
            "activation_3 (Activation)    (None, 10)                0         \n",
            "=================================================================\n",
            "Total params: 669,706\n",
            "Trainable params: 669,706\n",
            "Non-trainable params: 0\n",
            "_________________________________________________________________\n",
            "WARNING:tensorflow:From /usr/local/lib/python3.6/dist-packages/keras/optimizers.py:793: The name tf.train.Optimizer is deprecated. Please use tf.compat.v1.train.Optimizer instead.\n",
            "\n",
            "WARNING:tensorflow:From /usr/local/lib/python3.6/dist-packages/keras/backend/tensorflow_backend.py:3576: The name tf.log is deprecated. Please use tf.math.log instead.\n",
            "\n",
            "WARNING:tensorflow:From /usr/local/lib/python3.6/dist-packages/tensorflow_core/python/ops/math_grad.py:1424: where (from tensorflow.python.ops.array_ops) is deprecated and will be removed in a future version.\n",
            "Instructions for updating:\n",
            "Use tf.where in 2.0, which has the same broadcast rule as np.where\n",
            "WARNING:tensorflow:From /usr/local/lib/python3.6/dist-packages/keras/backend/tensorflow_backend.py:1033: The name tf.assign_add is deprecated. Please use tf.compat.v1.assign_add instead.\n",
            "\n",
            "WARNING:tensorflow:From /usr/local/lib/python3.6/dist-packages/keras/backend/tensorflow_backend.py:1020: The name tf.assign is deprecated. Please use tf.compat.v1.assign instead.\n",
            "\n",
            "WARNING:tensorflow:From /usr/local/lib/python3.6/dist-packages/keras/backend/tensorflow_backend.py:3005: The name tf.Session is deprecated. Please use tf.compat.v1.Session instead.\n",
            "\n",
            "Train on 60000 samples, validate on 10000 samples\n",
            "Epoch 1/10\n",
            "WARNING:tensorflow:From /usr/local/lib/python3.6/dist-packages/keras/backend/tensorflow_backend.py:190: The name tf.get_default_session is deprecated. Please use tf.compat.v1.get_default_session instead.\n",
            "\n",
            "WARNING:tensorflow:From /usr/local/lib/python3.6/dist-packages/keras/backend/tensorflow_backend.py:197: The name tf.ConfigProto is deprecated. Please use tf.compat.v1.ConfigProto instead.\n",
            "\n",
            "WARNING:tensorflow:From /usr/local/lib/python3.6/dist-packages/keras/backend/tensorflow_backend.py:207: The name tf.global_variables is deprecated. Please use tf.compat.v1.global_variables instead.\n",
            "\n",
            "WARNING:tensorflow:From /usr/local/lib/python3.6/dist-packages/keras/backend/tensorflow_backend.py:216: The name tf.is_variable_initialized is deprecated. Please use tf.compat.v1.is_variable_initialized instead.\n",
            "\n",
            "WARNING:tensorflow:From /usr/local/lib/python3.6/dist-packages/keras/backend/tensorflow_backend.py:223: The name tf.variables_initializer is deprecated. Please use tf.compat.v1.variables_initializer instead.\n",
            "\n",
            "60000/60000 [==============================] - 4s 66us/step - loss: 6.8382 - acc: 0.5505 - val_loss: 0.9041 - val_acc: 0.8890\n",
            "Epoch 2/10\n",
            "60000/60000 [==============================] - 4s 61us/step - loss: 0.7008 - acc: 0.8807 - val_loss: 0.3108 - val_acc: 0.9371\n",
            "Epoch 3/10\n",
            "60000/60000 [==============================] - 4s 60us/step - loss: 0.6152 - acc: 0.9023 - val_loss: 0.2739 - val_acc: 0.9456\n",
            "Epoch 4/10\n",
            "60000/60000 [==============================] - 4s 59us/step - loss: 0.6438 - acc: 0.9083 - val_loss: 0.2781 - val_acc: 0.9505\n",
            "Epoch 5/10\n",
            "60000/60000 [==============================] - 4s 61us/step - loss: 0.6935 - acc: 0.9112 - val_loss: 0.3192 - val_acc: 0.9481\n",
            "Epoch 6/10\n",
            "60000/60000 [==============================] - 4s 59us/step - loss: 0.7015 - acc: 0.9141 - val_loss: 0.3368 - val_acc: 0.9579\n",
            "Epoch 7/10\n",
            "60000/60000 [==============================] - 4s 59us/step - loss: 0.7430 - acc: 0.9176 - val_loss: 0.3642 - val_acc: 0.9593\n",
            "Epoch 8/10\n",
            "60000/60000 [==============================] - 3s 55us/step - loss: 0.7699 - acc: 0.9206 - val_loss: 0.4258 - val_acc: 0.9528\n",
            "Epoch 9/10\n",
            "60000/60000 [==============================] - 3s 56us/step - loss: 0.8086 - acc: 0.9200 - val_loss: 0.4267 - val_acc: 0.9533\n",
            "Epoch 10/10\n",
            "60000/60000 [==============================] - 3s 54us/step - loss: 0.8359 - acc: 0.9223 - val_loss: 0.4862 - val_acc: 0.9566\n",
            "\n",
            "\n",
            "Test score: 0.48620870032901564\n",
            "Test accuracy: 0.9566\n"
          ],
          "name": "stdout"
        }
      ]
    },
    {
      "cell_type": "markdown",
      "metadata": {
        "id": "HiGrUqawaMYp",
        "colab_type": "text"
      },
      "source": [
        "## The `dropout layer`\n",
        "\n",
        "Dropout is a a technique used to tackle overfitting . The `Dropout` method in `keras.layers` module takes in a float between 0 and 1, which is the fraction of the neurons to drop. \n",
        "\n",
        "<center>\n",
        "<img src=\"https://raw.githubusercontent.com/DataScienceUB/DeepLearningMaster2019/master/images/dropout.png\" alt=\"\" style=\"width: 400px;\"/> \n",
        "  </center>\n",
        "  <center>\n",
        " (Source: http://cs231n.stanford.edu/)\n",
        "</center>\n",
        "\n",
        "\n",
        "A dropout layer randomly sets some of the dimensions of your input vector to be zero with some probability $𝑘𝑒𝑒𝑝_{𝑝𝑟𝑜𝑏}$. A dropout layer does not have any trainable parameters i.e. nothing gets updated during backward pass of backpropagation.\n",
        "\n",
        "To ensure that expected sum of vectors fed to this layer remains the same if no dropout was applied, the remaining dimensions which are not set to zero are scaled by $1/𝑘𝑒𝑒𝑝_{𝑝𝑟𝑜𝑏}$.\n",
        "\n",
        "Dropout is only applied during training, and you need to rescale the remaining neuron activations. "
      ]
    },
    {
      "cell_type": "markdown",
      "metadata": {
        "id": "51CiIGkHQE0H",
        "colab_type": "text"
      },
      "source": [
        "## The ``merge`` layer\n",
        "\n",
        "Multiple Sequential instances can be merged into a single output via a ``Merge`` layer. The output is a layer that can be added as first layer in a new ``Sequential`` model. For instance, here's a model with two separate input branches getting merged:\n",
        "\n",
        "```python\n",
        "from keras.layers import Merge\n",
        "\n",
        "left_branch = Sequential()\n",
        "left_branch.add(Dense(32, input_dim=784))\n",
        "\n",
        "right_branch = Sequential()\n",
        "right_branch.add(Dense(32, input_dim=784))\n",
        "\n",
        "merged = Merge([left_branch, right_branch], mode='concat')\n",
        "\n",
        "final_model = Sequential()\n",
        "final_model.add(merged)\n",
        "final_model.add(Dense(10, activation='softmax'))\n",
        "```\n",
        "\n",
        "![alt text](https://github.com/DataScienceUB/DeepLearningMaster2019/blob/master/images/merge.png?raw=1)"
      ]
    },
    {
      "cell_type": "markdown",
      "metadata": {
        "id": "lUoptiW5QE0I",
        "colab_type": "text"
      },
      "source": [
        "### Merge layers: ``add``, ``subtract``, ...\n",
        "\n",
        "\n",
        "The Merge layer supports a number of pre-defined modes:\n",
        "\n",
        "+ `sum` (default): element-wise sum\n",
        "concat: tensor concatenation. You can specify the concatenation axis via the argument concat_axis.\n",
        "+ `mul`: element-wise multiplication\n",
        "+ `ave`: tensor average\n",
        "+ `dot`: dot product. You can specify which axes to reduce along via the argument dot_axes.\n",
        "+ `cos`: cosine proximity between vectors in 2D tensors."
      ]
    },
    {
      "cell_type": "markdown",
      "metadata": {
        "id": "Wdcv_yvcQE0R",
        "colab_type": "text"
      },
      "source": [
        "## Keras functional API\n",
        "\n",
        "The Keras ``functional`` API is the way to go for defining complex models, such as multi-output models, directed acyclic graphs, or models with shared layers.\n",
        "\n",
        "The ``Sequential`` model is probably a better choice to implement such a network, but it helps to start with something really simple.\n",
        "\n",
        "Using ``Model`` class:\n",
        "\n",
        "+ A layer instance is callable (on a tensor), and it returns a tensor\n",
        "+ ``Input`` tensor(s) and output tensor(s) can then be used to define a ``Model``\n",
        "+ Such a model can be trained just like Keras Sequential models."
      ]
    },
    {
      "cell_type": "code",
      "metadata": {
        "id": "ZLz7HfbNeBPP",
        "colab_type": "code",
        "colab": {}
      },
      "source": [
        "import tensorflow as tf\n",
        "import tensorflow.keras as keras\n",
        "import numpy as np\n",
        "\n",
        "from keras.datasets import mnist\n",
        "from keras.layers import Input, Dense\n",
        "from keras.models import Model\n",
        "from keras.utils import np_utils\n",
        "\n",
        "(X_train, y_train), (X_test, y_test) = mnist.load_data()\n",
        "X_train = X_train.reshape(60000, 784)\n",
        "data = X_train/255\n",
        "labels = np_utils.to_categorical(y_train, 10)"
      ],
      "execution_count": 0,
      "outputs": []
    },
    {
      "cell_type": "code",
      "metadata": {
        "id": "X6WK7G-mdiL0",
        "colab_type": "code",
        "outputId": "83529419-a339-4615-e255-969728a8116e",
        "colab": {
          "base_uri": "https://localhost:8080/",
          "height": 544
        }
      },
      "source": [
        "\n",
        "# this returns a tensor\n",
        "inputs = Input(shape=(784,))\n",
        "\n",
        "# a layer instance is callable on a tensor, and returns a tensor\n",
        "x = Dense(64, activation='relu')(inputs)\n",
        "x = Dense(64, activation='relu')(x)\n",
        "predictions = Dense(10, activation='softmax')(x)\n",
        "\n",
        "# this creates a model that includes\n",
        "# the Input layer and three Dense layers\n",
        "model = Model(input=inputs, output=predictions)\n",
        "\n",
        "model.compile(optimizer='rmsprop',\n",
        "              loss='categorical_crossentropy',\n",
        "              metrics=['accuracy'])\n",
        "\n",
        "model.summary()\n",
        "\n",
        "model.fit(data, \n",
        "          labels,\n",
        "          batch_size=128, \n",
        "          epochs=5)  # starts training"
      ],
      "execution_count": 13,
      "outputs": [
        {
          "output_type": "stream",
          "text": [
            "/usr/local/lib/python3.6/dist-packages/ipykernel_launcher.py:10: UserWarning: Update your `Model` call to the Keras 2 API: `Model(inputs=Tensor(\"in..., outputs=Tensor(\"de...)`\n",
            "  # Remove the CWD from sys.path while we load stuff.\n"
          ],
          "name": "stderr"
        },
        {
          "output_type": "stream",
          "text": [
            "Model: \"model_1\"\n",
            "_________________________________________________________________\n",
            "Layer (type)                 Output Shape              Param #   \n",
            "=================================================================\n",
            "input_1 (InputLayer)         (None, 784)               0         \n",
            "_________________________________________________________________\n",
            "dense_4 (Dense)              (None, 64)                50240     \n",
            "_________________________________________________________________\n",
            "dense_5 (Dense)              (None, 64)                4160      \n",
            "_________________________________________________________________\n",
            "dense_6 (Dense)              (None, 10)                650       \n",
            "=================================================================\n",
            "Total params: 55,050\n",
            "Trainable params: 55,050\n",
            "Non-trainable params: 0\n",
            "_________________________________________________________________\n",
            "Epoch 1/5\n",
            "60000/60000 [==============================] - 3s 50us/step - loss: 0.3727 - acc: 0.8955\n",
            "Epoch 2/5\n",
            "60000/60000 [==============================] - 3s 43us/step - loss: 0.1701 - acc: 0.9500\n",
            "Epoch 3/5\n",
            "60000/60000 [==============================] - 3s 43us/step - loss: 0.1218 - acc: 0.9635\n",
            "Epoch 4/5\n",
            "60000/60000 [==============================] - 3s 43us/step - loss: 0.0952 - acc: 0.9710\n",
            "Epoch 5/5\n",
            "60000/60000 [==============================] - 3s 45us/step - loss: 0.0796 - acc: 0.9760\n"
          ],
          "name": "stdout"
        },
        {
          "output_type": "execute_result",
          "data": {
            "text/plain": [
              "<keras.callbacks.History at 0x7fd6c00553c8>"
            ]
          },
          "metadata": {
            "tags": []
          },
          "execution_count": 13
        }
      ]
    },
    {
      "cell_type": "markdown",
      "metadata": {
        "id": "YHiwfriqQE0S",
        "colab_type": "text"
      },
      "source": [
        "All models are callable, just like layers.\n",
        "\n",
        "With the functional API, it is easy to re-use trained models: you can treat any model as if it were a layer, by calling it on a tensor. Note that by calling a model you aren't just re-using the architecture of the model, you are also re-using its weights.\n",
        "\n",
        "```python\n",
        "x = Input(shape=(784,))\n",
        "# this works, and returns the 10-way softmax we defined above.\n",
        "y = model(x)\n",
        "```"
      ]
    },
    {
      "cell_type": "markdown",
      "metadata": {
        "id": "B8BTfwxVQE0U",
        "colab_type": "text"
      },
      "source": [
        "##  Siamese MLP on pairs of digits from the MNIST \n",
        "\n",
        "(Based on: https://github.com/fchollet/keras/blob/master/examples/mnist_siamese_graph.py)\n",
        "\n",
        "Siamese networks are commonly used in image comparison applications such as face or signature verification. They can also be used in language processing, times series analysis, etc.\n",
        "\n",
        "In a typical Siamese network a large part of the network is duplicated at the base to allow multiple inputs to go through identical layers. \n",
        "\n",
        "This example shows how to teach a neural network to map an image from the MNIST dataset to a 2D point, while **trying to minimize the distance between points of the same class and maximize the distance between points of different classes**."
      ]
    },
    {
      "cell_type": "markdown",
      "metadata": {
        "id": "mnmUEne_QE0V",
        "colab_type": "text"
      },
      "source": [
        "Siamese network architecture is a way of learning how to embed samples into lower-dimensions based on similarity computed with features learned by a feature network.\n",
        "\n",
        "The feature network is the architecture we intend to fine-tune in this setting. \n",
        "\n",
        "Let's suppose we want to embed images. Given two images $X_1$ and $X_2$, we feed into the feature network $G_W$ and compute corresponding feature vectors $G_W(X_1)$ and $G_W(X_2)$. The final layer computes pair-wise distance between computed features $E_W = || G_W(X_1) - G_W(X_2) ||_{1}$ and final loss layer $L$ considers whether these two images are from the same class (label $1$) or not (label $0$).\n",
        "\n",
        "![alt text](https://github.com/DataScienceUB/DeepLearningMaster2019/blob/master/images/siamese1.png?raw=1)"
      ]
    },
    {
      "cell_type": "markdown",
      "metadata": {
        "id": "9NVK0jyCQE0X",
        "colab_type": "text"
      },
      "source": [
        "In the original [paper](http://yann.lecun.com/exdb/publis/pdf/chopra-05.pdf) it was proposed the **Contrastive Loss Function**: \n",
        "\n",
        "$$ L(W,(Y,X_1,X_2)^i) = (1 - Y) \\times L_S(E_W(X_1,X_2)^i) + Y \\times L_D(E_W(X_1,X_2)^i) $$\n",
        "\n",
        "where $L_S$ is the partial loss function for a \"same-class\" pair and $L_D$ is the partial loss function for a \"different-class\" pair.\n",
        "\n",
        "$L_S$ and $L_D$ should be designed in such a way that the minimization of $L$ will decrease the distance in the embedding space of \"same-class\" pairs and increase it in the case of \"different-class\" pairs:\n",
        "\n",
        "$$ L_S = \\frac{1}{2} E_W^2 $$\n",
        "$$ L_D = \\frac{1}{2} \\{ \\mbox{max }(0,1-E_W) \\}^2 $$"
      ]
    },
    {
      "cell_type": "code",
      "metadata": {
        "ExecuteTime": {
          "end_time": "2019-03-05T12:12:22.544377Z",
          "start_time": "2019-03-05T12:11:49.850575Z"
        },
        "id": "tgINnEdyQE0Z",
        "colab_type": "code",
        "outputId": "9f679a8c-c8e7-4271-8e10-8be863451d51",
        "colab": {
          "base_uri": "https://localhost:8080/",
          "height": 789
        }
      },
      "source": [
        "\n",
        "from __future__ import absolute_import\n",
        "from __future__ import print_function\n",
        "import numpy as np\n",
        "\n",
        "import random\n",
        "from keras.datasets import mnist\n",
        "from keras.models import Model\n",
        "from keras.layers import Input, Flatten, Dense, Dropout, Lambda\n",
        "from keras.optimizers import RMSprop\n",
        "from keras import backend as K\n",
        "\n",
        "num_classes = 10\n",
        "epochs = 20\n",
        "\n",
        "\n",
        "def euclidean_distance(vects):\n",
        "    x, y = vects\n",
        "    sum_square = K.sum(K.square(x - y), axis=1, keepdims=True)\n",
        "    return K.sqrt(K.maximum(sum_square, K.epsilon()))\n",
        "\n",
        "\n",
        "def eucl_dist_output_shape(shapes):\n",
        "    shape1, shape2 = shapes\n",
        "    return (shape1[0], 1)\n",
        "\n",
        "\n",
        "def contrastive_loss(y_true, y_pred):\n",
        "    '''Contrastive loss from Hadsell-et-al.'06\n",
        "    http://yann.lecun.com/exdb/publis/pdf/hadsell-chopra-lecun-06.pdf\n",
        "    '''\n",
        "    margin = 1\n",
        "    square_pred = K.square(y_pred)\n",
        "    margin_square = K.square(K.maximum(margin - y_pred, 0))\n",
        "    return K.mean(y_true * square_pred + (1 - y_true) * margin_square)\n",
        "\n",
        "\n",
        "def create_pairs(x, digit_indices):\n",
        "    '''Positive and negative pair creation.\n",
        "    Alternates between positive and negative pairs.\n",
        "    '''\n",
        "    pairs = []\n",
        "    labels = []\n",
        "    n = min([len(digit_indices[d]) for d in range(num_classes)]) - 1\n",
        "    for d in range(num_classes):\n",
        "        for i in range(n):\n",
        "            z1, z2 = digit_indices[d][i], digit_indices[d][i + 1]\n",
        "            pairs += [[x[z1], x[z2]]]\n",
        "            inc = random.randrange(1, num_classes)\n",
        "            dn = (d + inc) % num_classes\n",
        "            z1, z2 = digit_indices[d][i], digit_indices[dn][i]\n",
        "            pairs += [[x[z1], x[z2]]]\n",
        "            labels += [1, 0]\n",
        "    return np.array(pairs), np.array(labels)\n",
        "\n",
        "\n",
        "def create_base_network(input_shape):\n",
        "    '''Base network to be shared (eq. to feature extraction).\n",
        "    '''\n",
        "    input = Input(shape=input_shape)\n",
        "    x = Flatten()(input)\n",
        "    x = Dense(128, activation='relu')(x)\n",
        "    x = Dropout(0.1)(x)\n",
        "    x = Dense(128, activation='relu')(x)\n",
        "    x = Dropout(0.1)(x)\n",
        "    x = Dense(128, activation='relu')(x)\n",
        "    return Model(input, x)\n",
        "\n",
        "\n",
        "def compute_accuracy(y_true, y_pred):\n",
        "    '''Compute classification accuracy with a fixed threshold on distances.\n",
        "    '''\n",
        "    pred = y_pred.ravel() < 0.5\n",
        "    return np.mean(pred == y_true)\n",
        "\n",
        "\n",
        "def accuracy(y_true, y_pred):\n",
        "    '''Compute classification accuracy with a fixed threshold on distances.\n",
        "    '''\n",
        "    return K.mean(K.equal(y_true, K.cast(y_pred < 0.5, y_true.dtype)))\n",
        "\n",
        "\n",
        "# the data, split between train and test sets\n",
        "(x_train, y_train), (x_test, y_test) = mnist.load_data()\n",
        "x_train = x_train.astype('float32')\n",
        "x_test = x_test.astype('float32')\n",
        "x_train /= 255\n",
        "x_test /= 255\n",
        "input_shape = x_train.shape[1:]\n",
        "\n",
        "# create training+test positive and negative pairs\n",
        "digit_indices = [np.where(y_train == i)[0] for i in range(num_classes)]\n",
        "tr_pairs, tr_y = create_pairs(x_train, digit_indices)\n",
        "\n",
        "digit_indices = [np.where(y_test == i)[0] for i in range(num_classes)]\n",
        "te_pairs, te_y = create_pairs(x_test, digit_indices)\n",
        "\n",
        "# network definition\n",
        "base_network = create_base_network(input_shape)\n",
        "\n",
        "input_a = Input(shape=input_shape)\n",
        "input_b = Input(shape=input_shape)\n",
        "\n",
        "# because we re-use the same instance `base_network`,\n",
        "# the weights of the network\n",
        "# will be shared across the two branches\n",
        "processed_a = base_network(input_a)\n",
        "processed_b = base_network(input_b)\n",
        "\n",
        "distance = Lambda(euclidean_distance,\n",
        "                  output_shape=eucl_dist_output_shape)([processed_a, processed_b])\n",
        "\n",
        "model = Model([input_a, input_b], distance)\n",
        "\n",
        "# train\n",
        "rms = RMSprop()\n",
        "model.compile(loss=contrastive_loss, optimizer=rms, metrics=[accuracy])\n",
        "model.fit([tr_pairs[:, 0], tr_pairs[:, 1]], tr_y,\n",
        "          batch_size=128,\n",
        "          epochs=epochs,\n",
        "          validation_data=([te_pairs[:, 0], te_pairs[:, 1]], te_y))\n",
        "\n",
        "# compute final accuracy on training and test sets\n",
        "y_pred = model.predict([tr_pairs[:, 0], tr_pairs[:, 1]])\n",
        "tr_acc = compute_accuracy(tr_y, y_pred)\n",
        "y_pred = model.predict([te_pairs[:, 0], te_pairs[:, 1]])\n",
        "te_acc = compute_accuracy(te_y, y_pred)\n",
        "\n",
        "print('* Accuracy on training set: %0.2f%%' % (100 * tr_acc))\n",
        "print('* Accuracy on test set: %0.2f%%' % (100 * te_acc))"
      ],
      "execution_count": 24,
      "outputs": [
        {
          "output_type": "stream",
          "text": [
            "Train on 108400 samples, validate on 17820 samples\n",
            "Epoch 1/20\n",
            "108400/108400 [==============================] - 7s 64us/step - loss: 0.0967 - accuracy: 0.8834 - val_loss: 0.0449 - val_accuracy: 0.9473\n",
            "Epoch 2/20\n",
            "108400/108400 [==============================] - 6s 57us/step - loss: 0.0405 - accuracy: 0.9607 - val_loss: 0.0306 - val_accuracy: 0.9707\n",
            "Epoch 3/20\n",
            "108400/108400 [==============================] - 6s 58us/step - loss: 0.0272 - accuracy: 0.9735 - val_loss: 0.0255 - val_accuracy: 0.9707\n",
            "Epoch 4/20\n",
            "108400/108400 [==============================] - 7s 67us/step - loss: 0.0209 - accuracy: 0.9788 - val_loss: 0.0238 - val_accuracy: 0.9737\n",
            "Epoch 5/20\n",
            "108400/108400 [==============================] - 7s 66us/step - loss: 0.0180 - accuracy: 0.9811 - val_loss: 0.0232 - val_accuracy: 0.9715\n",
            "Epoch 6/20\n",
            "108400/108400 [==============================] - 7s 64us/step - loss: 0.0155 - accuracy: 0.9842 - val_loss: 0.0228 - val_accuracy: 0.9741\n",
            "Epoch 7/20\n",
            "108400/108400 [==============================] - 7s 67us/step - loss: 0.0141 - accuracy: 0.9853 - val_loss: 0.0227 - val_accuracy: 0.9724\n",
            "Epoch 8/20\n",
            "108400/108400 [==============================] - 7s 66us/step - loss: 0.0131 - accuracy: 0.9867 - val_loss: 0.0226 - val_accuracy: 0.9728\n",
            "Epoch 9/20\n",
            "108400/108400 [==============================] - 7s 61us/step - loss: 0.0124 - accuracy: 0.9871 - val_loss: 0.0231 - val_accuracy: 0.9738\n",
            "Epoch 10/20\n",
            "108400/108400 [==============================] - 7s 66us/step - loss: 0.0116 - accuracy: 0.9878 - val_loss: 0.0214 - val_accuracy: 0.9740\n",
            "Epoch 11/20\n",
            "108400/108400 [==============================] - 7s 61us/step - loss: 0.0109 - accuracy: 0.9886 - val_loss: 0.0229 - val_accuracy: 0.9746\n",
            "Epoch 12/20\n",
            "108400/108400 [==============================] - 7s 63us/step - loss: 0.0106 - accuracy: 0.9890 - val_loss: 0.0234 - val_accuracy: 0.9719\n",
            "Epoch 13/20\n",
            "108400/108400 [==============================] - 6s 60us/step - loss: 0.0101 - accuracy: 0.9892 - val_loss: 0.0227 - val_accuracy: 0.9736\n",
            "Epoch 14/20\n",
            "108400/108400 [==============================] - 7s 66us/step - loss: 0.0097 - accuracy: 0.9901 - val_loss: 0.0222 - val_accuracy: 0.9747\n",
            "Epoch 15/20\n",
            "108400/108400 [==============================] - 6s 59us/step - loss: 0.0094 - accuracy: 0.9898 - val_loss: 0.0221 - val_accuracy: 0.9741\n",
            "Epoch 16/20\n",
            "108400/108400 [==============================] - 6s 55us/step - loss: 0.0091 - accuracy: 0.9904 - val_loss: 0.0226 - val_accuracy: 0.9736\n",
            "Epoch 17/20\n",
            "108400/108400 [==============================] - 6s 55us/step - loss: 0.0087 - accuracy: 0.9906 - val_loss: 0.0229 - val_accuracy: 0.9737\n",
            "Epoch 18/20\n",
            "108400/108400 [==============================] - 6s 55us/step - loss: 0.0087 - accuracy: 0.9907 - val_loss: 0.0236 - val_accuracy: 0.9724\n",
            "Epoch 19/20\n",
            "108400/108400 [==============================] - 6s 56us/step - loss: 0.0083 - accuracy: 0.9910 - val_loss: 0.0231 - val_accuracy: 0.9736\n",
            "Epoch 20/20\n",
            "108400/108400 [==============================] - 6s 55us/step - loss: 0.0080 - accuracy: 0.9915 - val_loss: 0.0236 - val_accuracy: 0.9735\n",
            "* Accuracy on training set: 99.63%\n",
            "* Accuracy on test set: 97.35%\n"
          ],
          "name": "stdout"
        }
      ]
    },
    {
      "cell_type": "code",
      "metadata": {
        "id": "MGe9Re3U6k8t",
        "colab_type": "code",
        "colab": {}
      },
      "source": [
        "import pandas as pd\n",
        "import umap\n",
        "\n",
        "x = x_train[:2000,:,:].reshape(2000, 784)\n",
        "\n",
        "embedding = umap.UMAP(n_neighbors=5,\n",
        "                      min_dist=0.2,\n",
        "                      metric='correlation').fit_transform(x)"
      ],
      "execution_count": 0,
      "outputs": []
    },
    {
      "cell_type": "code",
      "metadata": {
        "id": "ivd7Jrdm69ni",
        "colab_type": "code",
        "outputId": "91bbdbea-ec41-4dda-b66a-ce799cbe8e58",
        "colab": {
          "base_uri": "https://localhost:8080/",
          "height": 489
        }
      },
      "source": [
        "import matplotlib.pyplot as plt\n",
        "\n",
        "%matplotlib inline\n",
        "\n",
        "fig, ax = plt.subplots(figsize=(10, 8))\n",
        "plt.scatter(embedding[:,0], embedding[:,1], \n",
        "            c=y_train[:2000],\n",
        "            cmap=\"Spectral\", \n",
        "            s=1.0)\n",
        "plt.setp(ax, xticks=[], yticks=[])\n",
        "plt.title(\"MNIST data embedded into two dimensions by UMAP\", fontsize=18)\n",
        "\n",
        "plt.show()"
      ],
      "execution_count": 31,
      "outputs": [
        {
          "output_type": "display_data",
          "data": {
            "image/png": "[encoded data removed]",
            "text/plain": [
              "<Figure size 720x576 with 1 Axes>"
            ]
          },
          "metadata": {
            "tags": []
          }
        }
      ]
    },
    {
      "cell_type": "code",
      "metadata": {
        "id": "AnDK-iIeNXAP",
        "colab_type": "code",
        "colab": {
          "base_uri": "https://localhost:8080/",
          "height": 34
        },
        "outputId": "1c641b3f-98ad-47b0-da8b-64e44f07b458"
      },
      "source": [
        "result = base_network.predict(x_test, batch_size=32)\n",
        "result.shape"
      ],
      "execution_count": 33,
      "outputs": [
        {
          "output_type": "execute_result",
          "data": {
            "text/plain": [
              "(10000, 128)"
            ]
          },
          "metadata": {
            "tags": []
          },
          "execution_count": 33
        }
      ]
    },
    {
      "cell_type": "code",
      "metadata": {
        "id": "Jery78IGNi-L",
        "colab_type": "code",
        "colab": {
          "base_uri": "https://localhost:8080/",
          "height": 544
        },
        "outputId": "4620fe6a-defb-48bf-f228-3dccb79419d7"
      },
      "source": [
        "embedding = umap.UMAP(n_neighbors=5,\n",
        "                      min_dist=0.2,\n",
        "                      metric='correlation').fit_transform(result)\n",
        "\n",
        "fig, ax = plt.subplots(figsize=(10, 8))\n",
        "plt.scatter(embedding[:,0], embedding[:,1], \n",
        "            c=y_test[:10000],\n",
        "            cmap=\"Spectral\", \n",
        "            s=1.0)\n",
        "plt.setp(ax, xticks=[], yticks=[])\n",
        "plt.title(\"MNIST data embedded into two dimensions by UMAP\", fontsize=18)\n",
        "\n",
        "plt.show()"
      ],
      "execution_count": 35,
      "outputs": [
        {
          "output_type": "stream",
          "text": [
            "/usr/local/lib/python3.6/dist-packages/umap/spectral.py:229: UserWarning: Embedding a total of 20 separate connected components using meta-embedding (experimental)\n",
            "  n_components\n"
          ],
          "name": "stderr"
        },
        {
          "output_type": "display_data",
          "data": {
            "image/png": "[encoded data removed]",
            "text/plain": [
              "<Figure size 720x576 with 1 Axes>"
            ]
          },
          "metadata": {
            "tags": []
          }
        }
      ]
    },
    {
      "cell_type": "markdown",
      "metadata": {
        "id": "wePbQDmIQE0e",
        "colab_type": "text"
      },
      "source": [
        "## Multi-input and multi-output models and the `Embedding` layer\n",
        "\n",
        "Here's a good use case for the functional API: models with multiple inputs and outputs. The functional API makes it easy to manipulate a large number of intertwined datastreams.\n",
        "\n",
        "Let's consider the following model. We seek to predict how many retweets and likes a news headline will receive on Twitter. The main input to the model will be the headline itself, as a sequence of words, but to spice things up, our model will also have an auxiliary input, receiving extra data such as the time of day when the headline was posted, etc. \n",
        "\n",
        "The model will also be supervised via two loss functions. Using the main loss function earlier in a model is a good regularization mechanism for deep models.\n",
        "\n",
        "We will also use an `embedding` layer. This layer turns positive integers (indexes) into dense vectors of fixed size. eg. `[[4], [20]] -> [[0.25, 0.1], [0.6, -0.2]]`. The parameters of this layer are the vectors.\n",
        "\n",
        "Here's what our model looks like:\n",
        "\n",
        "![alt text](https://github.com/DataScienceUB/DeepLearningMaster2019/blob/master/images/multi.png?raw=1)"
      ]
    },
    {
      "cell_type": "markdown",
      "metadata": {
        "id": "H2AXa03MQE0g",
        "colab_type": "text"
      },
      "source": [
        "Let's implement it with the functional API.\n",
        "\n",
        "The main input will receive the headline, as a sequence of integers (each integer encodes a word). The integers will be between 1 and 10,000 (a vocabulary of 10,000 words) and the sequences will be 100 words long."
      ]
    },
    {
      "cell_type": "code",
      "metadata": {
        "ExecuteTime": {
          "end_time": "2019-03-05T12:12:42.969916Z",
          "start_time": "2019-03-05T12:12:42.792604Z"
        },
        "id": "O-oqItqTQE0h",
        "colab_type": "code",
        "colab": {}
      },
      "source": [
        "from keras.layers import Input, Embedding, LSTM, Dense, concatenate\n",
        "from keras.models import Model\n",
        "\n",
        "# headline input: meant to receive sequences of 100 integers, between 1 and 10000.\n",
        "# note that we can name any layer by passing it a \"name\" argument.\n",
        "main_input = Input(shape=(100,), dtype='int32', name='main_input')\n",
        "\n",
        "# this embedding layer will encode the input sequence\n",
        "# into a sequence of dense 512-dimensional vectors.\n",
        "x = Embedding(output_dim=512, input_dim=10000, input_length=100)(main_input)\n",
        "\n",
        "# a LSTM will transform the vector sequence into a single vector,\n",
        "# containing information about the entire sequence\n",
        "lstm_out = LSTM(32)(x)"
      ],
      "execution_count": 0,
      "outputs": []
    },
    {
      "cell_type": "markdown",
      "metadata": {
        "id": "f6M9kcSHQE0j",
        "colab_type": "text"
      },
      "source": [
        "Here we insert the auxiliary loss, allowing the LSTM and Embedding layer to be trained smoothly even though the main loss will be much higher in the model."
      ]
    },
    {
      "cell_type": "code",
      "metadata": {
        "ExecuteTime": {
          "end_time": "2019-03-05T12:12:44.549821Z",
          "start_time": "2019-03-05T12:12:44.536473Z"
        },
        "id": "M1qQjL_aQE0n",
        "colab_type": "code",
        "colab": {}
      },
      "source": [
        "auxiliary_output = Dense(1, activation='sigmoid', name='aux_output')(lstm_out)"
      ],
      "execution_count": 0,
      "outputs": []
    },
    {
      "cell_type": "markdown",
      "metadata": {
        "id": "KEXrfVYIQE0p",
        "colab_type": "text"
      },
      "source": [
        "At this point, we feed into the model our auxiliary input data by concatenating it with the LSTM output:"
      ]
    },
    {
      "cell_type": "code",
      "metadata": {
        "ExecuteTime": {
          "end_time": "2019-03-05T12:12:46.193047Z",
          "start_time": "2019-03-05T12:12:46.146507Z"
        },
        "id": "jRvBLeQIQE0q",
        "colab_type": "code",
        "colab": {}
      },
      "source": [
        "auxiliary_input = Input(shape=(5,), name='aux_input')\n",
        "x = concatenate([lstm_out, auxiliary_input])\n",
        "\n",
        "# we stack a deep fully-connected network on top\n",
        "x = Dense(64, activation='relu')(x)\n",
        "x = Dense(64, activation='relu')(x)\n",
        "x = Dense(64, activation='relu')(x)\n",
        "\n",
        "# and finally we add the main logistic regression layer\n",
        "main_output = Dense(1, activation='sigmoid', name='main_output')(x)"
      ],
      "execution_count": 0,
      "outputs": []
    },
    {
      "cell_type": "markdown",
      "metadata": {
        "id": "BMdGUKqKQE0t",
        "colab_type": "text"
      },
      "source": [
        "This defines a model with two inputs and two outputs:"
      ]
    },
    {
      "cell_type": "code",
      "metadata": {
        "ExecuteTime": {
          "end_time": "2019-03-05T12:12:47.070464Z",
          "start_time": "2019-03-05T12:12:47.067696Z"
        },
        "id": "eqt6hoSGQE0u",
        "colab_type": "code",
        "colab": {}
      },
      "source": [
        "model = Model(inputs=[main_input, auxiliary_input], outputs=[main_output, auxiliary_output])"
      ],
      "execution_count": 0,
      "outputs": []
    },
    {
      "cell_type": "markdown",
      "metadata": {
        "id": "cDwUwM-2QE0z",
        "colab_type": "text"
      },
      "source": [
        "We compile the model and assign a weight of 0.2 to the auxiliary loss. To specify different loss_weights or loss for each different output, you can use a list or a dictionary. Here we pass a single loss as the loss argument, so the same loss will be used on all outputs."
      ]
    },
    {
      "cell_type": "code",
      "metadata": {
        "ExecuteTime": {
          "end_time": "2019-03-05T12:12:48.060647Z",
          "start_time": "2019-03-05T12:12:48.012672Z"
        },
        "id": "40m66hYDQE00",
        "colab_type": "code",
        "colab": {}
      },
      "source": [
        "model.compile(optimizer='rmsprop', loss='binary_crossentropy',\n",
        "              loss_weights=[1., 0.2])"
      ],
      "execution_count": 0,
      "outputs": []
    },
    {
      "cell_type": "markdown",
      "metadata": {
        "id": "rUnLWYuUQE03",
        "colab_type": "text"
      },
      "source": [
        "We can train the model by passing it lists of input arrays and target arrays:\n",
        "\n",
        "```python\n",
        "model.fit([headline_data, additional_data], [labels, labels],\n",
        "          nb_epoch=50, batch_size=32)\n",
        "```\n",
        "Since our inputs and outputs are named (we passed them a \"name\" argument), We could also have compiled the model via:\n",
        "\n",
        "```python\n",
        "model.compile(optimizer='rmsprop',\n",
        "              loss={'main_output': 'binary_crossentropy', 'aux_output': 'binary_crossentropy'},\n",
        "              loss_weights={'main_output': 1., 'aux_output': 0.2})\n",
        "\n",
        "# and trained it via:\n",
        "model.fit({'main_input': headline_data, 'aux_input': additional_data},\n",
        "          {'main_output': labels, 'aux_output': labels},\n",
        "          nb_epoch=50, batch_size=32)\n",
        "```"
      ]
    },
    {
      "cell_type": "markdown",
      "metadata": {
        "id": "n8PVcBwPQE04",
        "colab_type": "text"
      },
      "source": [
        "## Shared layers\n",
        "\n",
        "Another good use for the functional API are models that use shared layers. Let's take a look at shared layers.\n",
        "\n",
        "Let's consider a dataset of tweets. We want to build a model that can tell whether two tweets are from the same person or not (this can allow us to compare users by the similarity of their tweets, for instance).\n",
        "\n",
        "One way to achieve this is to build a model that encodes two tweets into two vectors, concatenates the vectors and adds a logistic regression of top, outputting a probability that the two tweets share the same author. The model would then be trained on positive tweet pairs and negative tweet pairs.\n",
        "\n",
        "Because the problem is symmetric, the mechanism that encodes the first tweet should be reused (weights and all) to encode the second tweet. Here we use a shared LSTM layer to encode the tweets.\n",
        "\n",
        "Let's build this with the functional API. We will take as input for a tweet a binary matrix of shape (140, 256), i.e. a sequence of 140 vectors of size 256, where each dimension in the 256-dimensional vector encodes the presence/absence of a character (out of an alphabet of 256 frequent characters)."
      ]
    },
    {
      "cell_type": "code",
      "metadata": {
        "ExecuteTime": {
          "end_time": "2019-03-05T12:12:50.156057Z",
          "start_time": "2019-03-05T12:12:50.150288Z"
        },
        "id": "8ceF9p0YQE06",
        "colab_type": "code",
        "colab": {}
      },
      "source": [
        "from keras.layers import Input, LSTM, Dense, concatenate\n",
        "from keras.models import Model\n",
        "\n",
        "tweet_a = Input(shape=(140, 256))\n",
        "tweet_b = Input(shape=(140, 256))"
      ],
      "execution_count": 0,
      "outputs": []
    },
    {
      "cell_type": "markdown",
      "metadata": {
        "id": "cICM7c8JQE0-",
        "colab_type": "text"
      },
      "source": [
        "To share a layer across different inputs, simply instantiate the layer once, then call it on as many inputs as you want:"
      ]
    },
    {
      "cell_type": "code",
      "metadata": {
        "ExecuteTime": {
          "end_time": "2019-03-05T12:12:51.729970Z",
          "start_time": "2019-03-05T12:12:51.421564Z"
        },
        "id": "ooh5XHXhQE0_",
        "colab_type": "code",
        "colab": {}
      },
      "source": [
        "# this layer can take as input a matrix\n",
        "# and will return a vector of size 64\n",
        "shared_lstm = LSTM(64)\n",
        "\n",
        "# when we reuse the same layer instance\n",
        "# multiple times, the weights of the layer\n",
        "# are also being reused\n",
        "# (it is effectively *the same* layer)\n",
        "encoded_a = shared_lstm(tweet_a)\n",
        "encoded_b = shared_lstm(tweet_b)\n",
        "\n",
        "# we can then concatenate the two vectors:\n",
        "merged_vector = concatenate([encoded_a, encoded_b],axis=-1)\n",
        "\n",
        "# and add a logistic regression on top\n",
        "predictions = Dense(1, activation='sigmoid')(merged_vector)\n",
        "\n",
        "# we define a trainable model linking the\n",
        "# tweet inputs to the predictions\n",
        "model = Model(inputs=[tweet_a, tweet_b], outputs=predictions)\n",
        "\n",
        "model.compile(optimizer='rmsprop',\n",
        "              loss='binary_crossentropy',\n",
        "              metrics=['accuracy'])\n"
      ],
      "execution_count": 0,
      "outputs": []
    }
  ]
}